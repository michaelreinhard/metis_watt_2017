{
 "cells": [
  {
   "cell_type": "markdown",
   "metadata": {},
   "source": [
    "## Vector algebra\n",
    "\n",
    "Take two $N$ length (or, in other words, $N$ dimensional) vectors $\\mathbf{w}$ and $\\mathbf{v}$.  That is, where e.g., $\\mathbf{w}$ and $\\mathbf{v}$ looks like\n",
    "\n",
    "\\begin{equation}\n",
    "\\mathbf{w}=\\left[\\begin{array}{c}\n",
    "w_{1}\\\\\n",
    "w_{2}\\\\\n",
    "\\vdots\\\\\n",
    "w_{N}\n",
    "\\end{array}\\right]\\,\\,\\,\\,\\,\\,\\,\\,\\,\\,\\,\\,\\,\\,\\,\\,\\,\\,\\,\\mathbf{v}=\\left[\\begin{array}{c}\n",
    "v_{1}\\\\\n",
    "v_{2}\\\\\n",
    "\\vdots\\\\\n",
    "v_{N}\n",
    "\\end{array}\\right]\n",
    "\\end{equation}\n",
    "\n",
    "Notice that while the vector $\\mathbf{w}$ is an $N \\times 1 $ *column* vector, that the *transpose* of the vector $\\mathbf{w}$, written as $\\mathbf{w}^T$ is a $1 \\times N$ *row* vector.\n",
    "\n",
    "Also note that the transpose of a sum of vectors is the sum of the transpose of those vectors - as \n",
    "\n",
    "\\begin{equation}\n",
    "(\\mathbf{w} + \\mathbf{v})^T = \\mathbf{w}^T + \\mathbf{v}^T\n",
    "\\end{equation}"
   ]
  },
  {
   "cell_type": "markdown",
   "metadata": {},
   "source": [
    "### Vector addition and multiplication \n",
    "\n",
    "Addition is done entry-wise \n",
    "\n",
    "\\begin{equation}\n",
    "\\mathbf{w}+\\mathbf{v}=\\left[\\begin{array}{c}\n",
    "w_{1}+v_{1}\\\\\n",
    "w_{2}+v_{2}\\\\\n",
    "\\vdots\\\\\n",
    "w_{N}+v_{N}\n",
    "\\end{array}\\right]\n",
    "\\end{equation}\n",
    "\n",
    "'Multiplication' of vectors is performed two ways - the first is called the dot product or *inner product*, which which we sum the product of each entry-wise product between the two vectors\n",
    "\n",
    "\\begin{equation}\n",
    "\\mathbf{w}^{T}\\mathbf{v}=\\underset{n=1}{\\overset{N}{\\sum}}w_{n}v_{n}\n",
    "\\end{equation}\n",
    "\n",
    "Notice that in order for this quantity to be defined both vectors must be of the same length.  The inner product also defines the natural length or 'l-2 norm' of the $N$ length vectors as \n",
    "\n",
    "\\begin{equation}\n",
    "\\left\\Vert \\mathbf{w}\\right\\Vert _{2}^{2}=\\mathbf{w}^{T}\\mathbf{w}=\\underset{n=1}{\\overset{N}{\\sum}}w_{n}^{2}\n",
    "\\end{equation}\n",
    "\n",
    "The inner product is also provides information about the relationship between $\\mathbf{w}$ and $\\mathbf{v}$ as well - the inner product measures the angle between the two vectors via the *inner product rule* given as\n",
    "\n",
    "\\begin{equation}\n",
    "\\mathbf{w}^{T}\\mathbf{v}=\\left\\Vert \\mathbf{w}\\right\\Vert _{2}\\left\\Vert \\mathbf{v}\\right\\Vert _{2}\\mbox{cos}\\left(\\theta\\right)\n",
    "\\end{equation}\n",
    "\n",
    "where the quantity $\\theta$ is the angle between the two vectors.\n",
    "\n",
    "The second way to 'multiply' vectors is the *outer product* - the outer product of two $N$ length vectors gives an $N \\times N$ matrix of the form\n",
    "\n",
    "\\begin{equation}\n",
    "\\mathbf{w}\\mathbf{v}^{T}=\\left[\\begin{array}{cccc}\n",
    "w_{1}v_{1} & w_{1}v_{2} & \\cdots & w_{1}v_{N}\\\\\n",
    "w_{2}v_{1} & w_{2}v_{2} &  & w_{2}v_{N}\\\\\n",
    "\\vdots &  & \\ddots & \\vdots\\\\\n",
    "w_{N}v_{1} &  &  & w_{N}v_{N}\n",
    "\\end{array}\\right]\\end{equation}\n",
    "\n",
    "Notice that, unlike the case with the inner product, we can actually take the outer product of two different length vectors."
   ]
  },
  {
   "cell_type": "code",
   "execution_count": null,
   "metadata": {
    "collapsed": true
   },
   "outputs": [],
   "source": []
  }
 ],
 "metadata": {
  "kernelspec": {
   "display_name": "Python 2",
   "language": "python",
   "name": "python2"
  },
  "language_info": {
   "codemirror_mode": {
    "name": "ipython",
    "version": 2
   },
   "file_extension": ".py",
   "mimetype": "text/x-python",
   "name": "python",
   "nbconvert_exporter": "python",
   "pygments_lexer": "ipython2",
   "version": "2.7.11rc1"
  }
 },
 "nbformat": 4,
 "nbformat_minor": 0
}
